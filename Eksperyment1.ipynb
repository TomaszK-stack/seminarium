{
 "cells": [
  {
   "cell_type": "code",
   "execution_count": 2,
   "id": "51bcb61a",
   "metadata": {},
   "outputs": [],
   "source": [
    "import sys\n",
    "sys.path.append('C:\\\\Users\\\\korni\\\\seminarium\\\\semi\\\\Lib\\\\site-packages')\n",
    "import sklearn\n",
    "import numpy as np\n",
    "from skimage.io import imread\n",
    "import pandas as pd\n",
    "import os\n",
    "from skimage.transform import resize"
   ]
  },
  {
   "cell_type": "code",
   "execution_count": 38,
   "id": "efb4fc31",
   "metadata": {},
   "outputs": [],
   "source": [
    "dest_path = \"C:\\\\Users\\\\korni\\\\seminarium\\\\semi\\\\data\"\n",
    "data_X = []\n",
    "data_Y = []\n",
    "y = 0\n",
    "list = ['latino', 'rock']\n",
    "\n",
    "# for folder in os.listdir(dest_path):\n",
    "for folder in list:\n",
    "    csv_path = os.path.join(dest_path, folder)\n",
    "    for file in os.listdir(csv_path):\n",
    "        data = pd.read_csv(os.path.join(csv_path, file))\n",
    "        if data.shape == (127, 2375):\n",
    "            data_X.append(data)\n",
    "            data_Y.append(folder)\n",
    "data_XP = np.array(data_X)\n",
    "new_data_x = data_XP.reshape(105,2375*127)\n",
    "\n"
   ]
  },
  {
   "cell_type": "code",
   "execution_count": 40,
   "id": "ffc1b016",
   "metadata": {},
   "outputs": [],
   "source": [
    "from sklearn.model_selection import KFold\n",
    "kf = KFold(n_splits=3)\n",
    "kf\n",
    "new_data_y = np.array(data_Y)"
   ]
  },
  {
   "cell_type": "code",
   "execution_count": 15,
   "id": "657e2b7f",
   "metadata": {},
   "outputs": [],
   "source": [
    "from sklearn.svm import LinearSVC\n",
    "from sklearn.ensemble import GradientBoostingClassifier,RandomForestClassifier"
   ]
  },
  {
   "cell_type": "code",
   "execution_count": 27,
   "id": "749cc115",
   "metadata": {},
   "outputs": [
    {
     "ename": "TypeError",
     "evalue": "list indices must be integers or slices, not list",
     "output_type": "error",
     "traceback": [
      "\u001b[1;31m---------------------------------------------------------------------------\u001b[0m",
      "\u001b[1;31mTypeError\u001b[0m                                 Traceback (most recent call last)",
      "Cell \u001b[1;32mIn[27], line 4\u001b[0m\n\u001b[0;32m      2\u001b[0m     model\u001b[38;5;241m.\u001b[39mfit(X_train, y_train)\n\u001b[0;32m      3\u001b[0m     \u001b[38;5;28;01mreturn\u001b[39;00m model\u001b[38;5;241m.\u001b[39mscore(X_test,y_test)\n\u001b[1;32m----> 4\u001b[0m \u001b[43mdata_X\u001b[49m\u001b[43m[\u001b[49m\u001b[43m[\u001b[49m\u001b[38;5;241;43m1\u001b[39;49m\u001b[43m]\u001b[49m\u001b[43m]\u001b[49m\n",
      "\u001b[1;31mTypeError\u001b[0m: list indices must be integers or slices, not list"
     ]
    }
   ],
   "source": [
    "def get_score(model, X_train, X_test, y_train, y_test):\n",
    "    model.fit(X_train, y_train)\n",
    "    return model.score(X_test,y_test)\n"
   ]
  },
  {
   "cell_type": "code",
   "execution_count": 43,
   "id": "33a85a5a",
   "metadata": {},
   "outputs": [
    {
     "name": "stdout",
     "output_type": "stream",
     "text": [
      "0.3142857142857143\n",
      "0.37142857142857144\n",
      "0.5142857142857142\n",
      "0.6285714285714286\n",
      "0.7428571428571429\n",
      "0.6571428571428571\n",
      "0.42857142857142855\n",
      "0.2\n",
      "0.5142857142857142\n"
     ]
    }
   ],
   "source": [
    "for train_index, test_index in kf.split(data_X):\n",
    "    X_train, X_test, y_train, y_test =  new_data_x[train_index], new_data_x[test_index], new_data_y[train_index], new_data_y[test_index]\n",
    "    print(get_score(GradientBoostingClassifier(), X_train,X_test,y_train,y_test))\n",
    "    print(get_score(RandomForestClassifier(), X_train,X_test,y_train,y_test))\n",
    "    print(get_score(LinearSVC(), X_train,X_test,y_train,y_test))"
   ]
  },
  {
   "cell_type": "code",
   "execution_count": null,
   "id": "04bf85ae",
   "metadata": {},
   "outputs": [],
   "source": []
  }
 ],
 "metadata": {
  "kernelspec": {
   "display_name": "Python 3 (ipykernel)",
   "language": "python",
   "name": "python3"
  },
  "language_info": {
   "codemirror_mode": {
    "name": "ipython",
    "version": 3
   },
   "file_extension": ".py",
   "mimetype": "text/x-python",
   "name": "python",
   "nbconvert_exporter": "python",
   "pygments_lexer": "ipython3",
   "version": "3.10.0"
  }
 },
 "nbformat": 4,
 "nbformat_minor": 5
}
