{
 "cells": [
  {
   "cell_type": "code",
   "execution_count": 2,
   "id": "51bcb61a",
   "metadata": {
    "is_executing": true
   },
   "outputs": [],
   "source": [
    "import sys\n",
    "sys.path.append('C:\\\\Users\\\\korni\\\\seminarium\\\\semi\\\\Lib\\\\site-packages')\n",
    "import sklearn\n",
    "import numpy as np\n",
    "from skimage.io import imread\n",
    "import pandas as pd\n",
    "import os\n",
    "from skimage.transform import resize"
   ]
  },
  {
   "cell_type": "code",
   "execution_count": 9,
   "id": "efb4fc31",
   "metadata": {},
   "outputs": [],
   "source": [
    "dest_path = \"C:\\\\Users\\\\korni\\\\seminarium\\\\semi\\\\databistest\"\n",
    "data_X = []\n",
    "data_Y = []\n",
    "y = 0\n",
    "list = ['latino', 'rock']\n",
    "\n",
    "# for folder in os.listdir(dest_path):\n",
    "for folder in list:\n",
    "    csv_path = os.path.join(dest_path, folder)\n",
    "    for file in os.listdir(csv_path):\n",
    "        data = pd.read_csv(os.path.join(csv_path, file))\n",
    "        if data.shape == (127, 20):\n",
    "            data_X.append(data)\n",
    "            data_Y.append(folder)\n",
    "data_XP = np.array(data_X)\n",
    "new_data_x = data_XP.reshape(8927,20*127)\n",
    "\n"
   ]
  },
  {
   "cell_type": "code",
   "execution_count": 15,
   "id": "ffc1b016",
   "metadata": {},
   "outputs": [],
   "source": [
    "from sklearn.model_selection import StratifiedKFold\n",
    "skf = StratifiedKFold(n_splits=3, shuffle=True)\n",
    "kf\n",
    "new_data_y = np.array(data_Y)"
   ]
  },
  {
   "cell_type": "code",
   "execution_count": 16,
   "id": "657e2b7f",
   "metadata": {},
   "outputs": [],
   "source": [
    "from sklearn.svm import LinearSVC\n",
    "from sklearn.ensemble import GradientBoostingClassifier,RandomForestClassifier"
   ]
  },
  {
   "cell_type": "code",
   "execution_count": 19,
   "id": "749cc115",
   "metadata": {},
   "outputs": [],
   "source": [
    "from sklearn.svm import LinearSVC\n",
    "def get_score(model, X_train, X_test, y_train, y_test):\n",
    "    model.fit(X_train, y_train)\n",
    "    return model.score(X_test,y_test)\n"
   ]
  },
  {
   "cell_type": "code",
   "execution_count": null,
   "id": "33a85a5a",
   "metadata": {},
   "outputs": [
    {
     "name": "stdout",
     "output_type": "stream",
     "text": [
      "0.8474462365591398\n",
      "0.834005376344086\n"
     ]
    },
    {
     "name": "stderr",
     "output_type": "stream",
     "text": [
      "C:\\Users\\korni\\AppData\\Local\\Programs\\Python\\Python310\\lib\\site-packages\\sklearn\\svm\\_classes.py:31: FutureWarning: The default value of `dual` will change from `True` to `'auto'` in 1.5. Set the value of `dual` explicitly to suppress the warning.\n",
      "  warnings.warn(\n",
      "C:\\Users\\korni\\AppData\\Local\\Programs\\Python\\Python310\\lib\\site-packages\\sklearn\\svm\\_base.py:1237: ConvergenceWarning: Liblinear failed to converge, increase the number of iterations.\n",
      "  warnings.warn(\n"
     ]
    },
    {
     "name": "stdout",
     "output_type": "stream",
     "text": [
      "0.7943548387096774\n"
     ]
    }
   ],
   "source": [
    "for train_index, test_index in skf.split(data_X, new_data_y):\n",
    "    X_train, X_test, y_train, y_test =  new_data_x[train_index], new_data_x[test_index], new_data_y[train_index], new_data_y[test_index]\n",
    "    print(get_score(GradientBoostingClassifier(), X_train,X_test,y_train,y_test))\n",
    "    print(get_score(RandomForestClassifier(), X_train,X_test,y_train,y_test))\n",
    "    print(get_score(LinearSVC(), X_train,X_test,y_train,y_test))"
   ]
  },
  {
   "cell_type": "code",
   "execution_count": null,
   "id": "04bf85ae",
   "metadata": {},
   "outputs": [],
   "source": []
  }
 ],
 "metadata": {
  "kernelspec": {
   "display_name": "Python 3 (ipykernel)",
   "language": "python",
   "name": "python3"
  },
  "language_info": {
   "codemirror_mode": {
    "name": "ipython",
    "version": 3
   },
   "file_extension": ".py",
   "mimetype": "text/x-python",
   "name": "python",
   "nbconvert_exporter": "python",
   "pygments_lexer": "ipython3",
   "version": "3.10.0"
  }
 },
 "nbformat": 4,
 "nbformat_minor": 5
}
