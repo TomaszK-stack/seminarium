{
 "cells": [
  {
   "cell_type": "code",
   "execution_count": 1,
   "id": "51bcb61a",
   "metadata": {
    "is_executing": true
   },
   "outputs": [],
   "source": [
    "import sys\n",
    "sys.path.append('C:\\\\Users\\\\korni\\\\seminarium\\\\semi\\\\Lib\\\\site-packages')\n",
    "import sklearn\n",
    "import numpy as np\n",
    "from skimage.io import imread\n",
    "import pandas as pd\n",
    "import os\n",
    "from skimage.transform import resize"
   ]
  },
  {
   "cell_type": "code",
   "execution_count": 2,
   "id": "efb4fc31",
   "metadata": {},
   "outputs": [
    {
     "ename": "ValueError",
     "evalue": "cannot reshape array of size 15562580 into shape (6256,2540)",
     "output_type": "error",
     "traceback": [
      "\u001b[1;31m---------------------------------------------------------------------------\u001b[0m",
      "\u001b[1;31mValueError\u001b[0m                                Traceback (most recent call last)",
      "Cell \u001b[1;32mIn[2], line 16\u001b[0m\n\u001b[0;32m     14\u001b[0m             data_Y\u001b[38;5;241m.\u001b[39mappend(folder)\n\u001b[0;32m     15\u001b[0m data_XP \u001b[38;5;241m=\u001b[39m np\u001b[38;5;241m.\u001b[39marray(data_X)\n\u001b[1;32m---> 16\u001b[0m new_data_x \u001b[38;5;241m=\u001b[39m \u001b[43mdata_XP\u001b[49m\u001b[38;5;241;43m.\u001b[39;49m\u001b[43mreshape\u001b[49m\u001b[43m(\u001b[49m\u001b[38;5;241;43m6256\u001b[39;49m\u001b[43m,\u001b[49m\u001b[38;5;241;43m20\u001b[39;49m\u001b[38;5;241;43m*\u001b[39;49m\u001b[38;5;241;43m127\u001b[39;49m\u001b[43m)\u001b[49m\n\u001b[0;32m     17\u001b[0m new_data_x\n",
      "\u001b[1;31mValueError\u001b[0m: cannot reshape array of size 15562580 into shape (6256,2540)"
     ]
    }
   ],
   "source": [
    "dest_path = \"C:\\\\Users\\\\korni\\\\seminarium\\\\semi\\\\databistest\"\n",
    "data_X = []\n",
    "data_Y = []\n",
    "y = 0\n",
    "list = ['latino', 'rock']\n",
    "\n",
    "# for folder in os.listdir(dest_path):\n",
    "for folder in list:\n",
    "    csv_path = os.path.join(dest_path, folder)\n",
    "    for file in os.listdir(csv_path):\n",
    "        data = pd.read_csv(os.path.join(csv_path, file))\n",
    "        if data.shape == (127, 20):\n",
    "            data_X.append(data)\n",
    "            data_Y.append(folder)\n",
    "data_XP = np.array(data_X)\n",
    "new_data_x = data_XP.reshape(6127,20*127)\n",
    "\n",
    "\n",
    "\n"
   ]
  },
  {
   "cell_type": "code",
   "execution_count": 6,
   "id": "9cf38b48",
   "metadata": {},
   "outputs": [
    {
     "data": {
      "text/plain": [
       "array([[-41.68631744, -39.81410217, -43.2077713 , ..., -80.        ,\n",
       "        -80.        , -80.        ],\n",
       "       [-31.92773056, -38.8392868 , -49.63182068, ..., -80.        ,\n",
       "        -80.        , -80.        ],\n",
       "       [-32.23473358, -37.07719421, -58.43317795, ..., -80.        ,\n",
       "        -80.        , -80.        ],\n",
       "       ...,\n",
       "       [-10.73558426,  -2.82429886,   0.        , ..., -80.        ,\n",
       "        -80.        , -80.        ],\n",
       "       [-15.57239246, -17.50893784, -19.63998222, ..., -80.        ,\n",
       "        -80.        , -80.        ],\n",
       "       [-27.75056458, -22.36740494, -21.75370407, ..., -80.        ,\n",
       "        -80.        , -80.        ]])"
      ]
     },
     "execution_count": 6,
     "metadata": {},
     "output_type": "execute_result"
    }
   ],
   "source": [
    "new_data_x = data_XP.reshape(6127,20*127)\n",
    "new_data_x"
   ]
  },
  {
   "cell_type": "code",
   "execution_count": 15,
   "id": "ffc1b016",
   "metadata": {},
   "outputs": [],
   "source": [
    "from sklearn.model_selection import StratifiedKFold\n",
    "skf = StratifiedKFold(n_splits=3, shuffle=True)\n",
    "kf\n",
    "new_data_y = np.array(data_Y)"
   ]
  },
  {
   "cell_type": "code",
   "execution_count": 16,
   "id": "657e2b7f",
   "metadata": {},
   "outputs": [],
   "source": [
    "from sklearn.svm import LinearSVC\n",
    "from sklearn.ensemble import GradientBoostingClassifier,RandomForestClassifier"
   ]
  },
  {
   "cell_type": "code",
   "execution_count": 19,
   "id": "749cc115",
   "metadata": {},
   "outputs": [],
   "source": [
    "from sklearn.svm import LinearSVC\n",
    "def get_score(model, X_train, X_test, y_train, y_test):\n",
    "    model.fit(X_train, y_train)\n",
    "    return model.score(X_test,y_test)\n"
   ]
  },
  {
   "cell_type": "code",
   "execution_count": null,
   "id": "33a85a5a",
   "metadata": {},
   "outputs": [
    {
     "name": "stdout",
     "output_type": "stream",
     "text": [
      "0.8474462365591398\n",
      "0.834005376344086\n"
     ]
    },
    {
     "name": "stderr",
     "output_type": "stream",
     "text": [
      "C:\\Users\\korni\\AppData\\Local\\Programs\\Python\\Python310\\lib\\site-packages\\sklearn\\svm\\_classes.py:31: FutureWarning: The default value of `dual` will change from `True` to `'auto'` in 1.5. Set the value of `dual` explicitly to suppress the warning.\n",
      "  warnings.warn(\n",
      "C:\\Users\\korni\\AppData\\Local\\Programs\\Python\\Python310\\lib\\site-packages\\sklearn\\svm\\_base.py:1237: ConvergenceWarning: Liblinear failed to converge, increase the number of iterations.\n",
      "  warnings.warn(\n"
     ]
    },
    {
     "name": "stdout",
     "output_type": "stream",
     "text": [
      "0.7943548387096774\n"
     ]
    }
   ],
   "source": [
    "for train_index, test_index in skf.split(data_X, new_data_y):\n",
    "    X_train, X_test, y_train, y_test =  new_data_x[train_index], new_data_x[test_index], new_data_y[train_index], new_data_y[test_index]\n",
    "    print(get_score(GradientBoostingClassifier(), X_train,X_test,y_train,y_test))\n",
    "    print(get_score(RandomForestClassifier(), X_train,X_test,y_train,y_test))\n",
    "    print(get_score(LinearSVC(), X_train,X_test,y_train,y_test))"
   ]
  },
  {
   "cell_type": "code",
   "execution_count": null,
   "id": "04bf85ae",
   "metadata": {},
   "outputs": [],
   "source": []
  }
 ],
 "metadata": {
  "kernelspec": {
   "display_name": "Python 3 (ipykernel)",
   "language": "python",
   "name": "python3"
  },
  "language_info": {
   "codemirror_mode": {
    "name": "ipython",
    "version": 3
   },
   "file_extension": ".py",
   "mimetype": "text/x-python",
   "name": "python",
   "nbconvert_exporter": "python",
   "pygments_lexer": "ipython3",
   "version": "3.10.0"
  }
 },
 "nbformat": 4,
 "nbformat_minor": 5
}
