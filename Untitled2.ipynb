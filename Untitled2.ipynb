{
 "cells": [
  {
   "cell_type": "code",
   "execution_count": 1,
   "id": "e1555405",
   "metadata": {},
   "outputs": [],
   "source": [
    "import sys\n",
    "sys.path.append('C:\\\\Users\\\\korni\\\\seminarium\\\\semi\\\\Lib\\\\site-packages')\n",
    "import sklearn\n",
    "import numpy as np\n",
    "from skimage.io import imread\n",
    "import pandas\n",
    "import os\n",
    "from skimage.transform import resize\n"
   ]
  },
  {
   "cell_type": "code",
   "execution_count": null,
   "id": "c8d4f8f3",
   "metadata": {},
   "outputs": [],
   "source": []
  },
  {
   "cell_type": "code",
   "execution_count": 4,
   "id": "6150e6b8",
   "metadata": {},
   "outputs": [],
   "source": [
    "dest_path = \"C:\\\\Users\\\\korni\\\\seminarium\\\\semi\\\\data\""
   ]
  },
  {
   "cell_type": "code",
   "execution_count": 11,
   "id": "e7ba774f",
   "metadata": {},
   "outputs": [
    {
     "name": "stdout",
     "output_type": "stream",
     "text": [
      "(128, 2375)\n",
      "(128, 2375)\n",
      "(128, 2375)\n",
      "(128, 2375)\n",
      "(128, 2375)\n",
      "(128, 2375)\n",
      "(128, 2375)\n",
      "(128, 2375)\n",
      "(128, 2375)\n",
      "(128, 2375)\n",
      "(128, 2375)\n",
      "(128, 2375)\n",
      "(128, 2375)\n",
      "(128, 2375)\n",
      "(128, 2375)\n",
      "(128, 2375)\n",
      "(128, 2375)\n",
      "(128, 2375)\n",
      "(128, 2375)\n",
      "(128, 2375)\n",
      "(128, 2375)\n",
      "(128, 2375)\n",
      "(128, 2375)\n",
      "(128, 2375)\n",
      "(128, 2375)\n",
      "(128, 2375)\n",
      "(128, 2375)\n",
      "(128, 2375)\n",
      "(128, 2375)\n",
      "(128, 2375)\n",
      "(128, 2375)\n",
      "(128, 2375)\n",
      "(128, 2375)\n",
      "(128, 2375)\n",
      "(128, 2375)\n",
      "(128, 2375)\n",
      "(128, 2375)\n",
      "(128, 2375)\n",
      "(128, 2375)\n",
      "(128, 2375)\n",
      "(128, 2375)\n",
      "(128, 2375)\n",
      "(128, 2375)\n",
      "(128, 2375)\n",
      "(128, 2375)\n",
      "(128, 2375)\n",
      "(128, 2375)\n",
      "(128, 2375)\n",
      "(128, 2375)\n",
      "(128, 2375)\n",
      "(128, 2375)\n",
      "(128, 2375)\n",
      "(128, 2375)\n",
      "(128, 2375)\n",
      "(128, 2375)\n",
      "(128, 2375)\n",
      "(128, 2375)\n",
      "(128, 2375)\n",
      "(128, 2375)\n",
      "(128, 2375)\n",
      "(128, 2375)\n",
      "(128, 2375)\n",
      "(128, 2375)\n",
      "(128, 2375)\n",
      "(128, 2375)\n",
      "(128, 2375)\n",
      "(128, 2375)\n",
      "(128, 2375)\n",
      "(128, 2375)\n",
      "(128, 2375)\n",
      "(128, 2375)\n",
      "(128, 2375)\n",
      "(128, 2375)\n",
      "(128, 2375)\n",
      "(128, 2375)\n",
      "(128, 2375)\n",
      "(128, 2375)\n",
      "(128, 2375)\n",
      "(128, 2375)\n",
      "(128, 2375)\n",
      "(128, 2375)\n",
      "(128, 2375)\n",
      "(128, 2375)\n",
      "(128, 2375)\n",
      "(128, 2375)\n",
      "(128, 2375)\n",
      "(128, 2375)\n",
      "(128, 2375)\n",
      "(128, 2375)\n",
      "(128, 2375)\n",
      "(128, 2375)\n",
      "(128, 2375)\n"
     ]
    }
   ],
   "source": [
    "data_X = []\n",
    "data_Y = []\n",
    "y = 0\n",
    "for folder in os.listdir(dest_path):\n",
    "    \n",
    "    csv_path = os.path.join(dest_path, folder)\n",
    "    for x in os.listdir(csv_path):\n",
    "#         print(x)\n",
    "        data = np.genfromtxt(os.path.join(csv_path, x), delimiter=\",\", encoding=\"utf8\")\n",
    "        data_X.append(data)\n",
    "        data_Y.append(folder)\n",
    "for z in data_X:\n",
    "    print(z.shape)\n",
    "    "
   ]
  },
  {
   "cell_type": "code",
   "execution_count": 15,
   "id": "24c763da",
   "metadata": {},
   "outputs": [
    {
     "name": "stdout",
     "output_type": "stream",
     "text": [
      "4500\n"
     ]
    }
   ],
   "source": [
    "# data_X = np.array(data_X[0])\n",
    "print(len(data_X[0][0]))"
   ]
  },
  {
   "cell_type": "code",
   "execution_count": 18,
   "id": "a83fb84f",
   "metadata": {},
   "outputs": [
    {
     "name": "stdout",
     "output_type": "stream",
     "text": [
      "92\n"
     ]
    }
   ],
   "source": [
    "data_X = np.array(data_X)\n",
    "\n",
    "new_data_x = data_X.reshape(92,2375*128)\n",
    "\n",
    "\n",
    "from sklearn.model_selection import train_test_split\n",
    " \n",
    "X_train, X_test, y_train, y_test = train_test_split(\n",
    "    new_data_x, \n",
    "    data_Y, \n",
    "    test_size=0.2, \n",
    "    shuffle=True,\n",
    "    random_state=42,\n",
    ")\n",
    "print(len(data_Y))\n"
   ]
  },
  {
   "cell_type": "code",
   "execution_count": 16,
   "id": "2946b0f5",
   "metadata": {},
   "outputs": [
    {
     "name": "stdout",
     "output_type": "stream",
     "text": [
      "(73,)\n"
     ]
    }
   ],
   "source": [
    "print(np.shape(y_train))"
   ]
  },
  {
   "cell_type": "code",
   "execution_count": null,
   "id": "b380ade5",
   "metadata": {},
   "outputs": [],
   "source": [
    "from sklearn.svm import LinearSVC\n",
    "sgd_clf = LinearSVC()\n",
    "sgd_clf.fit(X_train, y_train)\n"
   ]
  },
  {
   "cell_type": "code",
   "execution_count": 7,
   "id": "0ec63270",
   "metadata": {},
   "outputs": [
    {
     "name": "stdout",
     "output_type": "stream",
     "text": [
      "[False False  True False  True  True False  True  True  True False False\n",
      "  True  True  True  True False  True  True False False  True  True  True\n",
      " False False False  True]\n",
      "\n",
      "Percentage correct:  57.142857142857146\n"
     ]
    }
   ],
   "source": [
    "\n",
    "y_pred = sgd_clf.predict(X_test)\n",
    "print(np.array(y_pred == y_test))\n",
    "print('')\n",
    "print('Percentage correct: ', 100*np.sum(y_pred == y_test)/len(y_test))"
   ]
  },
  {
   "cell_type": "code",
   "execution_count": null,
   "id": "9ef1ae9a",
   "metadata": {},
   "outputs": [],
   "source": []
  },
  {
   "cell_type": "code",
   "execution_count": null,
   "id": "9eb191cf",
   "metadata": {},
   "outputs": [],
   "source": []
  }
 ],
 "metadata": {
  "kernelspec": {
   "display_name": "Python 3 (ipykernel)",
   "language": "python",
   "name": "python3"
  },
  "language_info": {
   "codemirror_mode": {
    "name": "ipython",
    "version": 3
   },
   "file_extension": ".py",
   "mimetype": "text/x-python",
   "name": "python",
   "nbconvert_exporter": "python",
   "pygments_lexer": "ipython3",
   "version": "3.10.0"
  }
 },
 "nbformat": 4,
 "nbformat_minor": 5
}
